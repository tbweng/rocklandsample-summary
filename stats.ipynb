{
 "cells": [
  {
   "cell_type": "code",
   "execution_count": 1,
   "metadata": {},
   "outputs": [
    {
     "name": "stdout",
     "output_type": "stream",
     "text": [
      "abin\t\t\t\t   handshake-airdrop  rockland_stats.ipynb\n",
      "@add_rcran_ubuntu_18.04.tcsh\t   mind\t\t      snap\n",
      "bin\t\t\t\t   Music\t      temp\n",
      "breath.txt\t\t\t   pcasl.txt\t      Templates\n",
      "data-2020-03-04T22_18_22.934Z.csv  Pictures\t      @update.afni.binaries\n",
      "Desktop\t\t\t\t   Public\t      @update_rcran.R\n",
      "Documents\t\t\t   R\t\t      Videos\n",
      "Downloads\t\t\t   redcap.ipynb\n"
     ]
    }
   ],
   "source": [
    "!ls"
   ]
  },
  {
   "cell_type": "code",
   "execution_count": 150,
   "metadata": {},
   "outputs": [],
   "source": [
    "import pickle\n",
    "import pandas as pd\n",
    "import numpy as np\n",
    "import boto3\n",
    "import botocore\n",
    "from IPython.display import clear_output"
   ]
  },
  {
   "cell_type": "code",
   "execution_count": 33,
   "metadata": {},
   "outputs": [],
   "source": [
    "def get_all_s3_keys(**kwargs):\n",
    "    keys = []\n",
    "    while True:\n",
    "        resp = s3.list_objects_v2(**kwargs)\n",
    "        if 'Contents' in resp:\n",
    "            for obj in resp['Contents']:\n",
    "                keys.append(obj['Key'])\n",
    "        try:\n",
    "            kwargs['ContinuationToken'] = resp['NextContinuationToken']\n",
    "        except KeyError:\n",
    "            break\n",
    "    return keys"
   ]
  },
  {
   "cell_type": "code",
   "execution_count": 22,
   "metadata": {},
   "outputs": [],
   "source": [
    "df = pd.read_csv('data-2020-03-04T22_18_22.934Z.csv')"
   ]
  },
  {
   "cell_type": "code",
   "execution_count": 28,
   "metadata": {},
   "outputs": [],
   "source": [
    "def convert(c, d):\n",
    "    def cc(v):\n",
    "        try:\n",
    "            return c(v)\n",
    "        except:\n",
    "            return d\n",
    "    return cc\n",
    "\n",
    "df['participant'] = df.Identifiers.apply(lambda r: r.split(',')[0].strip())\n",
    "df['session'] = df.Identifiers.apply(lambda r: r.split(',')[1].strip())\n",
    "df['age'] = df.age_04.apply(lambda f: float(f) if f != '.' else 0.0)\n",
    "df['sex'] = df.dem_002.apply(convert(lambda x: {'1': 'M', '2': 'F'}[x], np.nan))"
   ]
  },
  {
   "cell_type": "code",
   "execution_count": 129,
   "metadata": {},
   "outputs": [],
   "source": [
    "df['height'] = df.height_01.apply(lambda f: float(f) if f != '.' else 0.0)\n",
    "df['weight'] = df.weight_01.apply(lambda f: float(f) if f != '.' else 0.0)\n",
    "df['v02max'] = df.v02max.apply(lambda f: float(f) if f != '.' else 0.0)"
   ]
  },
  {
   "cell_type": "code",
   "execution_count": 35,
   "metadata": {},
   "outputs": [],
   "source": [
    "s3 = boto3.client('s3')"
   ]
  },
  {
   "cell_type": "code",
   "execution_count": 36,
   "metadata": {},
   "outputs": [],
   "source": [
    "objs = get_all_s3_keys(Bucket='fcp-indi', Prefix='data/Projects/RocklandSample/RawDataBIDSLatest')"
   ]
  },
  {
   "cell_type": "code",
   "execution_count": 61,
   "metadata": {},
   "outputs": [],
   "source": [
    "subject_files = list(filter(lambda x: x.startswith('data/Projects/RocklandSample/RawDataBIDSLatest/sub-'), objs))\n",
    "subject_files = [s[47:] for s in subject_files]"
   ]
  },
  {
   "cell_type": "code",
   "execution_count": 65,
   "metadata": {},
   "outputs": [],
   "source": [
    "# 3D MP-RAGE\n",
    "# rs fMRI\n",
    "# DTI\n",
    "# Cerebral Blood Flow\n",
    "# Breath Hold ASL\n",
    "# Perfusion ASL\n",
    "# Both Breath Hold & Perfusion ASL\n",
    "\n",
    "def has_anat(r):\n",
    "    return f'sub-{r.participant}/ses-{r.session}/anat/sub-{r.participant}_ses-{r.session}_T1w.nii.gz' in subject_files\n",
    "\n",
    "def has_rest(r):\n",
    "    return f'sub-{r.participant}/ses-{r.session}/func/sub-{r.participant}_ses-{r.session}_task-rest_acq-1400_bold.nii.gz' in subject_files\n",
    "\n",
    "def has_dti(r):\n",
    "    return f'sub-{r.participant}/ses-{r.session}/dwi/sub-{r.participant}_ses-{r.session}_dwi.nii.gz' in subject_files\n",
    "\n",
    "def has_asl(r):\n",
    "    return f'sub-{r.participant}/ses-{r.session}/func/sub-{r.participant}_ses-{r.session}_task-pCASL_bold.nii.gz' in subject_files\n",
    "\n",
    "def has_breathhold(r):\n",
    "    return f'sub-{r.participant}/ses-{r.session}/func/sub-{r.participant}_ses-{r.session}_task-BREATHHOLD_acq-1400_bold.nii.gz' in subject_files\n",
    "\n",
    "df['anat'] = df.apply(has_anat, axis=1)\n",
    "df['rest'] = df.apply(has_rest, axis=1)\n",
    "df['dti'] = df.apply(has_dti, axis=1)\n",
    "df['asl'] = df.apply(has_asl, axis=1)\n",
    "df['breathhold'] = df.apply(has_breathhold, axis=1)"
   ]
  },
  {
   "cell_type": "code",
   "execution_count": 88,
   "metadata": {},
   "outputs": [],
   "source": [
    "checks = ['anat', 'rest', 'dti', 'asl', 'breathhold']"
   ]
  },
  {
   "cell_type": "code",
   "execution_count": 119,
   "metadata": {},
   "outputs": [],
   "source": [
    "def print_stats(df):\n",
    "    print(f\"{np.sum(df.anat)}\\t{np.sum(df[df.sex == 'M'].anat)}\\t{np.sum(df[df.sex == 'F'].anat)}\")\n",
    "    print(f\"{np.sum(df.rest)}\\t{np.sum(df[df.sex == 'M'].rest)}\\t{np.sum(df[df.sex == 'F'].rest)}\")\n",
    "    print(f\"{np.sum(df.dti)}\\t{np.sum(df[df.sex == 'M'].dti)}\\t{np.sum(df[df.sex == 'F'].dti)}\")\n",
    "    print()\n",
    "    print(f\"{np.sum(df.asl)}\\t{np.sum(df[df.sex == 'M'].asl)}\\t{np.sum(df[df.sex == 'F'].asl)}\")\n",
    "    print(f\"{np.sum(df.breathhold)}\\t{np.sum(df[df.sex == 'M'].breathhold)}\\t{np.sum(df[df.sex == 'F'].breathhold)}\")\n",
    "    print(f\"{np.sum((df.asl & df.breathhold))}\\t{np.sum((df.asl & df.breathhold)[df.sex == 'M'])}\\t{np.sum((df.asl & df.breathhold)[df.sex == 'F'])}\")\n",
    "    print(\"------------------------------\")"
   ]
  },
  {
   "cell_type": "code",
   "execution_count": 121,
   "metadata": {},
   "outputs": [
    {
     "name": "stdout",
     "output_type": "stream",
     "text": [
      "1316\t521\t795\n",
      "1307\t517\t790\n",
      "1281\t507\t774\n",
      "\n",
      "965\t389\t576\n",
      "1283\t508\t775\n",
      "965\t389\t576\n",
      "------------------------------\n",
      "833\t267\t566\n",
      "827\t266\t561\n",
      "821\t264\t557\n",
      "\n",
      "596\t193\t403\n",
      "821\t263\t558\n",
      "596\t193\t403\n",
      "------------------------------\n",
      "251\t72\t179\n",
      "251\t72\t179\n",
      "247\t72\t175\n",
      "\n",
      "246\t72\t174\n",
      "247\t72\t175\n",
      "246\t72\t174\n",
      "------------------------------\n"
     ]
    }
   ],
   "source": [
    "sdf = df \\\n",
    "    [['participant', 'sex'] + checks] \\\n",
    "    .groupby('participant') \\\n",
    "    .agg({\n",
    "        **{c: lambda x: np.sum(x.values, dtype=bool) for c in checks},\n",
    "        'sex': 'max'\n",
    "    })\n",
    "\n",
    "print_stats(sdf)\n",
    "\n",
    "sdf = df \\\n",
    "    [(df.age > 25) & df.session.str.startswith('BAS')] \\\n",
    "    [['participant', 'sex'] + checks] \\\n",
    "    .groupby('participant') \\\n",
    "    .agg({\n",
    "        **{c: lambda x: np.sum(x.values, dtype=bool) for c in checks},\n",
    "        'sex': 'max'\n",
    "    })\n",
    "\n",
    "print_stats(sdf)\n",
    "\n",
    "sdf = df \\\n",
    "    [(df.age > 25) & df.session.str.startswith('FLU')] \\\n",
    "    [['participant', 'sex'] + checks] \\\n",
    "    .groupby('participant') \\\n",
    "    .agg({\n",
    "        **{c: lambda x: np.sum(x.values, dtype=bool) for c in checks},\n",
    "        'sex': 'max'\n",
    "    })\n",
    "\n",
    "print_stats(sdf)"
   ]
  },
  {
   "cell_type": "code",
   "execution_count": 135,
   "metadata": {},
   "outputs": [],
   "source": [
    "def print_clinical_stats(df):\n",
    "    print()\n",
    "    print()\n",
    "    print(f\"{np.sum(df.height > 0.0)}\\t{np.sum(df[df.sex == 'M'].height > 0.0)}\\t{np.sum(df[df.sex == 'F'].height > 0.0)}\")\n",
    "    print(f\"{np.sum(df.weight > 0.0)}\\t{np.sum(df[df.sex == 'M'].weight > 0.0)}\\t{np.sum(df[df.sex == 'F'].weight > 0.0)}\")\n",
    "    print()\n",
    "    print(f\"{np.sum(df.v02max > 0.0)}\\t{np.sum(df[df.sex == 'M'].v02max > 0.0)}\\t{np.sum(df[df.sex == 'F'].v02max > 0.0)}\")\n",
    "    print(\"------------------------------\")"
   ]
  },
  {
   "cell_type": "code",
   "execution_count": 136,
   "metadata": {},
   "outputs": [
    {
     "name": "stdout",
     "output_type": "stream",
     "text": [
      "\n",
      "\n",
      "313\t94\t219\n",
      "313\t94\t219\n",
      "\n",
      "313\t94\t219\n",
      "------------------------------\n",
      "\n",
      "\n",
      "273\t80\t193\n",
      "273\t80\t193\n",
      "\n",
      "273\t80\t193\n",
      "------------------------------\n",
      "\n",
      "\n",
      "262\t78\t184\n",
      "262\t78\t184\n",
      "\n",
      "260\t78\t182\n",
      "------------------------------\n"
     ]
    }
   ],
   "source": [
    "sdf = df \\\n",
    "    [['participant', 'sex', 'height', 'weight', 'v02max']] \\\n",
    "    .groupby('participant') \\\n",
    "    .agg({\n",
    "        'sex': 'max',\n",
    "        'height': 'max',\n",
    "        'weight': 'max',\n",
    "        'v02max': 'max',\n",
    "    })\n",
    "\n",
    "print_clinical_stats(sdf)\n",
    "\n",
    "sdf = df \\\n",
    "    [(df.age > 25) & df.session.str.startswith('BAS')] \\\n",
    "    [['participant', 'sex', 'height', 'weight', 'v02max']] \\\n",
    "    .groupby('participant') \\\n",
    "    .agg({\n",
    "        'sex': 'max',\n",
    "        'height': 'max',\n",
    "        'weight': 'max',\n",
    "        'v02max': 'max',\n",
    "    })\n",
    "\n",
    "print_clinical_stats(sdf)\n",
    "\n",
    "sdf = df \\\n",
    "    [(df.age > 25) & df.session.str.startswith('FLU')] \\\n",
    "    [['participant', 'sex', 'height', 'weight', 'v02max']] \\\n",
    "    .groupby('participant') \\\n",
    "    .agg({\n",
    "        'sex': 'max',\n",
    "        'height': 'max',\n",
    "        'weight': 'max',\n",
    "        'v02max': 'max',\n",
    "    })\n",
    "\n",
    "print_clinical_stats(sdf)"
   ]
  },
  {
   "cell_type": "code",
   "execution_count": 138,
   "metadata": {},
   "outputs": [
    {
     "data": {
      "text/plain": [
       "692"
      ]
     },
     "execution_count": 138,
     "metadata": {},
     "output_type": "execute_result"
    }
   ],
   "source": [
    "np.sum(df.height > 0)"
   ]
  },
  {
   "cell_type": "code",
   "execution_count": 145,
   "metadata": {},
   "outputs": [
    {
     "data": {
      "text/plain": [
       "313"
      ]
     },
     "execution_count": 145,
     "metadata": {},
     "output_type": "execute_result"
    }
   ],
   "source": [
    "np.sum(df[['participant', 'height']].groupby('participant').mean().height > 0)"
   ]
  },
  {
   "cell_type": "code",
   "execution_count": 155,
   "metadata": {},
   "outputs": [],
   "source": [
    "def count_derivatives(files, start_at=8):\n",
    "    count = {}\n",
    "    for i, o in enumerate(files):\n",
    "        if '/qc/' in o:\n",
    "            continue\n",
    "        o = o.strip('/')\n",
    "        subses, derivative, *iterables, file = o.split('/')[start_at:]\n",
    "        count[derivative] = count.get(derivative, []) + [subses]\n",
    "        \n",
    "        if (i+1) % 10000 == 0:\n",
    "            clear_output(wait=True)\n",
    "            print(f'{i+1} of {len(files)}')\n",
    "    return count"
   ]
  },
  {
   "cell_type": "code",
   "execution_count": 147,
   "metadata": {},
   "outputs": [],
   "source": [
    "objs = get_all_s3_keys(Bucket='fcp-indi', Prefix='data/Projects/RocklandSample/Outputs/C-PAC')"
   ]
  },
  {
   "cell_type": "code",
   "execution_count": 148,
   "metadata": {},
   "outputs": [],
   "source": [
    "pipeline_output = [o for o in objs if '/pipeline_analysis_nuisance/' in o]"
   ]
  },
  {
   "cell_type": "code",
   "execution_count": 156,
   "metadata": {},
   "outputs": [
    {
     "name": "stdout",
     "output_type": "stream",
     "text": [
      "4320000 of 4369074\n"
     ]
    }
   ],
   "source": [
    "derivs = count_derivatives(pipeline_output)"
   ]
  },
  {
   "cell_type": "code",
   "execution_count": 158,
   "metadata": {},
   "outputs": [
    {
     "data": {
      "image/png": "[encoded data removed]",
      "text/plain": [
       "<Figure size 1080x360 with 1 Axes>"
      ]
     },
     "metadata": {
      "needs_background": "light"
     },
     "output_type": "display_data"
    }
   ],
   "source": [
    "import matplotlib.pyplot as plt\n",
    "\n",
    "x = list(sorted(derivs.keys()))\n",
    "y = [len(set(derivs.get(k, []))) for k in sorted(derivs.keys())]\n",
    "\n",
    "plt.figure(figsize=(15,5))\n",
    "plt.bar(x, y)\n",
    "plt.tick_params(axis='x', which='major')\n",
    "plt.xticks(rotation=90)\n",
    "plt.show()"
   ]
  },
  {
   "cell_type": "code",
   "execution_count": 165,
   "metadata": {},
   "outputs": [],
   "source": [
    "with open('derivs.pkl', 'wb') as f:\n",
    "    pickle.dump(derivs, f)"
   ]
  }
 ],
 "metadata": {
  "kernelspec": {
   "display_name": "Python 3",
   "language": "python",
   "name": "python3"
  },
  "language_info": {
   "codemirror_mode": {
    "name": "ipython",
    "version": 3
   },
   "file_extension": ".py",
   "mimetype": "text/x-python",
   "name": "python",
   "nbconvert_exporter": "python",
   "pygments_lexer": "ipython3",
   "version": "3.7.4"
  }
 },
 "nbformat": 4,
 "nbformat_minor": 4
}
