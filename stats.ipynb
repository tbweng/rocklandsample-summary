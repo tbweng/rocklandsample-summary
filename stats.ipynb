{
 "cells": [
  {
   "cell_type": "code",
   "execution_count": 214,
   "metadata": {},
   "outputs": [],
   "source": [
    "import pickle\n",
    "import pandas as pd\n",
    "import numpy as np\n",
    "import boto3\n",
    "import botocore\n",
    "from IPython.display import clear_output\n",
    "import seaborn as sns\n",
    "import glob"
   ]
  },
  {
   "cell_type": "code",
   "execution_count": 30,
   "metadata": {},
   "outputs": [],
   "source": [
    "def get_all_s3_keys(**kwargs):\n",
    "    keys = []\n",
    "    while True:\n",
    "        resp = s3.list_objects_v2(**kwargs)\n",
    "        if 'Contents' in resp:\n",
    "            for obj in resp['Contents']:\n",
    "                keys.append(obj['Key'])\n",
    "        try:\n",
    "            kwargs['ContinuationToken'] = resp['NextContinuationToken']\n",
    "        except KeyError:\n",
    "            break\n",
    "    return keys"
   ]
  },
  {
   "cell_type": "code",
   "execution_count": 220,
   "metadata": {},
   "outputs": [],
   "source": [
    "df = pd.read_csv('data-2020-06-16T22_59_09.061Z.csv')"
   ]
  },
  {
   "cell_type": "code",
   "execution_count": 221,
   "metadata": {},
   "outputs": [],
   "source": [
    "def convert(c, d):\n",
    "    def cc(v):\n",
    "        try:\n",
    "            return c(v)\n",
    "        except:\n",
    "            return d\n",
    "    return cc\n",
    "\n",
    "df['participant'] = df.Identifiers.apply(lambda r: r.split(',')[0].strip())\n",
    "df['session'] = df.Identifiers.apply(lambda r: r.split(',')[1].strip())\n",
    "df['age'] = df.age_04.apply(lambda f: float(f) if f != '.' else 0.0)\n",
    "df['sex'] = df.dem_002.apply(convert(lambda x: {'1': 'M', '2': 'F'}[x], np.nan))"
   ]
  },
  {
   "cell_type": "code",
   "execution_count": 222,
   "metadata": {},
   "outputs": [],
   "source": [
    "# remove non-numeric \n",
    "df = df[pd.to_numeric(df['dem_002'], errors='coerce').notnull()]\n",
    "df = df[pd.to_numeric(df['dbdi_22'], errors='coerce').notnull()]\n",
    "df = df[pd.to_numeric(df['gdsc_31'], errors='coerce').notnull()]\n",
    "df = df[pd.to_numeric(df['cogfq_26'], errors='coerce').notnull()]\n"
   ]
  },
  {
   "cell_type": "code",
   "execution_count": 223,
   "metadata": {},
   "outputs": [],
   "source": [
    "df['height'] = df.height_01.apply(lambda f: float(f) if f != '.' else 0.0)\n",
    "df['weight'] = df.weight_01.apply(lambda f: float(f) if f != '.' else 0.0)\n",
    "df['v02max'] = df.v02max.apply(lambda f: float(f) if f != '.' else 0.0)\n",
    "df['height'] = df.height_01.apply(lambda f: float(f) if f != '.' else 0.0)\n",
    "df['med'] = df.med_20.apply(lambda f: float(f) if f != '.' else 0.0)\n",
    "df['med_v2'] = df['dsmeds_00'].apply(lambda f: float(f) if f != '.' else 0.0)\n",
    "\n",
    "df['moca'] = df.moca_01.apply(lambda f: float(f) if f != '.' else 0.0)\n",
    "df['wasi'] = df.int_01.apply(lambda f: float(f) if f != '.' else 0.0)\n",
    "df['bdi'] = df.dbdi_22.apply(lambda f: float(f) if f != '.' else 0.0)\n",
    "df['gds'] = df.gdsc_31.apply(lambda f: float(f) if f != '.' else 0.0)\n",
    "df['dkefs'] = df.dkefstmt_01.apply(lambda f: float(f) if f != '.' else 0.0)\n",
    "df['cfq'] = df.cogfq_26.apply(lambda f: float(f) if f != '.' else 0.0)\n",
    "\n",
    "df['bp_sys'] = df.vit_06.apply(lambda f: float(f) if f != '.' else 0.0)\n",
    "df['bp_dys'] = df.vit_07.apply(lambda f: float(f) if f != '.' else 0.0)\n",
    "\n"
   ]
  },
  {
   "cell_type": "code",
   "execution_count": 13,
   "metadata": {},
   "outputs": [],
   "source": [
    "s3 = boto3.client('s3')"
   ]
  },
  {
   "cell_type": "code",
   "execution_count": null,
   "metadata": {},
   "outputs": [],
   "source": [
    "objs = get_all_s3_keys(Bucket='fcp-indi', Prefix='data/Projects/RocklandSample/RawDataBIDSLatest')"
   ]
  },
  {
   "cell_type": "code",
   "execution_count": null,
   "metadata": {},
   "outputs": [],
   "source": [
    "subject_files = list(filter(lambda x: x.startswith('data/Projects/RocklandSample/RawDataBIDSLatest/sub-'), objs))\n",
    "subject_files = [s[47:] for s in subject_files]"
   ]
  },
  {
   "cell_type": "code",
   "execution_count": null,
   "metadata": {},
   "outputs": [],
   "source": [
    "# 3D MP-RAGE\n",
    "# rs fMRI\n",
    "# DTI\n",
    "# Cerebral Blood Flow\n",
    "# Breath Hold ASL\n",
    "# Perfusion ASL\n",
    "# Both Breath Hold & Perfusion ASL\n",
    "\n",
    "def has_anat(r):\n",
    "    return f'sub-{r.participant}/ses-{r.session}/anat/sub-{r.participant}_ses-{r.session}_T1w.nii.gz' in subject_files\n",
    "\n",
    "def has_rest(r):\n",
    "    return f'sub-{r.participant}/ses-{r.session}/func/sub-{r.participant}_ses-{r.session}_task-rest_acq-1400_bold.nii.gz' in subject_files\n",
    "\n",
    "def has_dti(r):\n",
    "    return f'sub-{r.participant}/ses-{r.session}/dwi/sub-{r.participant}_ses-{r.session}_dwi.nii.gz' in subject_files\n",
    "\n",
    "def has_asl(r):\n",
    "    return f'sub-{r.participant}/ses-{r.session}/func/sub-{r.participant}_ses-{r.session}_task-pCASL_bold.nii.gz' in subject_files\n",
    "\n",
    "def has_breathhold(r):\n",
    "    return f'sub-{r.participant}/ses-{r.session}/func/sub-{r.participant}_ses-{r.session}_task-BREATHHOLD_acq-1400_bold.nii.gz' in subject_files\n",
    "\n",
    "df['anat'] = df.apply(has_anat, axis=1)\n",
    "df['rest'] = df.apply(has_rest, axis=1)\n",
    "df['dti'] = df.apply(has_dti, axis=1)\n",
    "df['asl'] = df.apply(has_asl, axis=1)\n",
    "df['breathhold'] = df.apply(has_breathhold, axis=1)"
   ]
  },
  {
   "cell_type": "code",
   "execution_count": null,
   "metadata": {},
   "outputs": [],
   "source": [
    "checks = ['anat', 'rest', 'dti', 'asl', 'breathhold']"
   ]
  },
  {
   "cell_type": "code",
   "execution_count": null,
   "metadata": {},
   "outputs": [],
   "source": [
    "def print_stats(df):\n",
    "    print(f\"{np.sum(df.anat)}\\t{np.sum(df[df.sex == 'M'].anat)}\\t{np.sum(df[df.sex == 'F'].anat)}\")\n",
    "    print(f\"{np.sum(df.rest)}\\t{np.sum(df[df.sex == 'M'].rest)}\\t{np.sum(df[df.sex == 'F'].rest)}\")\n",
    "    print(f\"{np.sum(df.dti)}\\t{np.sum(df[df.sex == 'M'].dti)}\\t{np.sum(df[df.sex == 'F'].dti)}\")\n",
    "    print()\n",
    "    print(f\"{np.sum(df.asl)}\\t{np.sum(df[df.sex == 'M'].asl)}\\t{np.sum(df[df.sex == 'F'].asl)}\")\n",
    "    print(f\"{np.sum(df.breathhold)}\\t{np.sum(df[df.sex == 'M'].breathhold)}\\t{np.sum(df[df.sex == 'F'].breathhold)}\")\n",
    "    print(f\"{np.sum((df.asl & df.breathhold))}\\t{np.sum((df.asl & df.breathhold)[df.sex == 'M'])}\\t{np.sum((df.asl & df.breathhold)[df.sex == 'F'])}\")\n",
    "    print(\"------------------------------\")"
   ]
  },
  {
   "cell_type": "code",
   "execution_count": null,
   "metadata": {},
   "outputs": [],
   "source": [
    "sdf = df \\\n",
    "    [['participant', 'sex'] + checks] \\\n",
    "    .groupby('participant') \\\n",
    "    .agg({\n",
    "        **{c: lambda x: np.sum(x.values, dtype=bool) for c in checks},\n",
    "        'sex': 'max'\n",
    "    })\n",
    "\n",
    "print_stats(sdf)\n",
    "\n",
    "sdf = df \\\n",
    "    [(df.age > 25) & df.session.str.startswith('BAS')] \\\n",
    "    [['participant', 'sex'] + checks] \\\n",
    "    .groupby('participant') \\\n",
    "    .agg({\n",
    "        **{c: lambda x: np.sum(x.values, dtype=bool) for c in checks},\n",
    "        'sex': 'max'\n",
    "    })\n",
    "\n",
    "print_stats(sdf)\n",
    "\n",
    "sdf = df \\\n",
    "    [(df.age > 25) & df.session.str.startswith('FLU')] \\\n",
    "    [['participant', 'sex'] + checks] \\\n",
    "    .groupby('participant') \\\n",
    "    .agg({\n",
    "        **{c: lambda x: np.sum(x.values, dtype=bool) for c in checks},\n",
    "        'sex': 'max'\n",
    "    })\n",
    "\n",
    "print_stats(sdf)"
   ]
  },
  {
   "cell_type": "code",
   "execution_count": 136,
   "metadata": {},
   "outputs": [],
   "source": [
    "def print_clinical_stats(df):\n",
    "    print()\n",
    "    print()\n",
    "    print(f\"{np.sum(df.height > 0.0)}\\t{np.sum(df[df.sex == 'M'].height > 0.0)}\\t{np.sum(df[df.sex == 'F'].height > 0.0)}\")\n",
    "    print(f\"{np.sum(df.weight > 0.0)}\\t{np.sum(df[df.sex == 'M'].weight > 0.0)}\\t{np.sum(df[df.sex == 'F'].weight > 0.0)}\")\n",
    "    print(f\"{np.sum(df.med > 0.0)}\\t{np.sum(df[df.sex == 'M'].med > 0.0)}\\t{np.sum(df[df.sex == 'F'].med > 0.0)}\")\n",
    "    print(f\"{np.sum(df.med_v2 > 0.0)}\\t{np.sum(df[df.sex == 'M'].med_v2 > 0.0)}\\t{np.sum(df[df.sex == 'F'].med_v2 > 0.0)}\")\n",
    "    print(f\"{np.sum(df.v02max > 0.0)}\\t{np.sum(df[df.sex == 'M'].v02max > 0.0)}\\t{np.sum(df[df.sex == 'F'].v02max > 0.0)}\")\n",
    "    print(\"------------------------------\")"
   ]
  },
  {
   "cell_type": "code",
   "execution_count": 137,
   "metadata": {},
   "outputs": [
    {
     "name": "stdout",
     "output_type": "stream",
     "text": [
      "\n",
      "\n",
      "313\t94\t219\n",
      "313\t94\t219\n",
      "116\t42\t74\n",
      "815\t290\t525\n",
      "313\t94\t219\n",
      "------------------------------\n",
      "\n",
      "\n",
      "273\t80\t193\n",
      "273\t80\t193\n",
      "84\t28\t56\n",
      "557\t166\t391\n",
      "273\t80\t193\n",
      "------------------------------\n",
      "\n",
      "\n",
      "262\t78\t184\n",
      "262\t78\t184\n",
      "0\t0\t0\n",
      "240\t69\t171\n",
      "260\t78\t182\n",
      "------------------------------\n"
     ]
    }
   ],
   "source": [
    "sdf = df \\\n",
    "    [['participant', 'sex', 'height', 'weight', 'med', 'med_v2', 'v02max']] \\\n",
    "    .groupby('participant') \\\n",
    "    .agg({\n",
    "        'sex': 'max',\n",
    "        'height': 'max',\n",
    "        'weight': 'max',\n",
    "        'med': 'max',\n",
    "        'med_v2': 'max',\n",
    "        'v02max': 'max',\n",
    "    })\n",
    "\n",
    "print_clinical_stats(sdf)\n",
    "\n",
    "sdf = df \\\n",
    "    [(df.age > 25) & df.session.str.startswith('BAS')] \\\n",
    "    [['participant', 'sex', 'height', 'weight', 'med', 'med_v2','v02max']] \\\n",
    "    .groupby('participant') \\\n",
    "    .agg({\n",
    "        'sex': 'max',\n",
    "        'height': 'max',\n",
    "        'weight': 'max',\n",
    "        'med': 'max',\n",
    "        'med_v2': 'max',\n",
    "        'v02max': 'max',\n",
    "    })\n",
    "\n",
    "print_clinical_stats(sdf)\n",
    "\n",
    "sdf = df \\\n",
    "    [(df.age > 25) & df.session.str.startswith('FLU')] \\\n",
    "    [['participant', 'sex', 'height', 'weight', 'med', 'med_v2','v02max']] \\\n",
    "    .groupby('participant') \\\n",
    "    .agg({\n",
    "        'sex': ['mean','std'],\n",
    "        'height': ['mean','std'],\n",
    "        'weight': ['mean','std'],\n",
    "        'med': ['mean','std'],\n",
    "        'med_v2': ['mean','std'],\n",
    "        'v02max': ['mean','std'],\n",
    "    })\n",
    "\n",
    "print_clinical_stats(sdf)"
   ]
  },
  {
   "cell_type": "code",
   "execution_count": 148,
   "metadata": {},
   "outputs": [],
   "source": [
    "def print_neurocog_stats(df):\n",
    "    print()\n",
    "    print()\n",
    "    print(f\"{np.sum(df.moca > 0.0)}\\t{np.sum(df[df.sex == 'M'].moca > 0.0)}\\t{np.sum(df[df.sex == 'F'].moca > 0.0)}\")\n",
    "    print(f\"{np.sum(df.wasi > 0.0)}\\t{np.sum(df[df.sex == 'M'].wasi > 0.0)}\\t{np.sum(df[df.sex == 'F'].wasi > 0.0)}\")\n",
    "    print(f\"{np.sum(df.bdi > 0.0)}\\t{np.sum(df[df.sex == 'M'].bdi > 0.0)}\\t{np.sum(df[df.sex == 'F'].bdi > 0.0)}\")\n",
    "    print(f\"{np.sum(df.gds > 0.0)}\\t{np.sum(df[df.sex == 'M'].gds > 0.0)}\\t{np.sum(df[df.sex == 'F'].gds > 0.0)}\")\n",
    "    print(f\"{np.sum(df.dkefs > 0.0)}\\t{np.sum(df[df.sex == 'M'].dkefs > 0.0)}\\t{np.sum(df[df.sex == 'F'].dkefs > 0.0)}\")\n",
    "    print(f\"{np.sum(df.cfq > 0.0)}\\t{np.sum(df[df.sex == 'M'].cfq > 0.0)}\\t{np.sum(df[df.sex == 'F'].cfq > 0.0)}\")\n",
    "    print(\"------------------------------\")"
   ]
  },
  {
   "cell_type": "code",
   "execution_count": 149,
   "metadata": {},
   "outputs": [
    {
     "name": "stdout",
     "output_type": "stream",
     "text": [
      "\n",
      "\n",
      "92\t39\t53\n",
      "93\t39\t54\n",
      "81\t35\t46\n",
      "80\t34\t46\n",
      "85\t36\t49\n",
      "93\t39\t54\n",
      "------------------------------\n",
      "\n",
      "\n",
      "74\t31\t43\n",
      "74\t31\t43\n",
      "62\t26\t36\n",
      "62\t26\t36\n",
      "75\t31\t44\n",
      "75\t31\t44\n",
      "------------------------------\n",
      "\n",
      "\n",
      "70\t29\t41\n",
      "72\t29\t43\n",
      "61\t26\t35\n",
      "53\t21\t32\n",
      "49\t22\t27\n",
      "73\t29\t44\n",
      "------------------------------\n"
     ]
    }
   ],
   "source": [
    "sdf = df \\\n",
    "    [['participant', 'sex', 'moca', 'wasi', 'bdi', 'gds', 'dkefs', 'cfq']] \\\n",
    "    .groupby('participant') \\\n",
    "    .agg({\n",
    "        'sex': 'max',\n",
    "        'moca': 'max',\n",
    "        'wasi': 'max',\n",
    "        'bdi': 'max',\n",
    "        'gds': 'max',\n",
    "        'dkefs': 'max',\n",
    "        'cfq': 'max',\n",
    "    })\n",
    "\n",
    "print_neurocog_stats(sdf)\n",
    "\n",
    "sdf = df \\\n",
    "    [(df.age > 25) & df.session.str.startswith('BAS')] \\\n",
    "    [['participant', 'sex', 'moca', 'wasi', 'bdi', 'gds', 'dkefs', 'cfq']] \\\n",
    "    .groupby('participant') \\\n",
    "    .agg({\n",
    "        'sex': 'max',\n",
    "        'moca': 'max',\n",
    "        'wasi': 'max',\n",
    "        'bdi': 'max',\n",
    "        'gds': 'max',\n",
    "        'dkefs': 'max',\n",
    "        'cfq': 'max',\n",
    "    })\n",
    "\n",
    "print_neurocog_stats(sdf)\n",
    "\n",
    "sdf = df \\\n",
    "    [(df.age > 25) & df.session.str.startswith('FLU')] \\\n",
    "    [['participant', 'sex', 'moca', 'wasi', 'bdi', 'gds', 'dkefs', 'cfq']] \\\n",
    "    .groupby('participant') \\\n",
    "    .agg({\n",
    "        'sex': 'max',\n",
    "        'moca': 'max',\n",
    "        'wasi': 'max',\n",
    "        'bdi': 'max',\n",
    "        'gds': 'max',\n",
    "        'dkefs': 'max',\n",
    "        'cfq': 'max',\n",
    "    })\n",
    "\n",
    "print_neurocog_stats(sdf)"
   ]
  },
  {
   "cell_type": "code",
   "execution_count": 155,
   "metadata": {},
   "outputs": [],
   "source": [
    "def print_female_stats(df):\n",
    "    print()\n",
    "    print()\n",
    "    print(f\"{np.sum(df.mham_097 > 0.0)}\\t{np.sum(df[df.sex == 'M'].mham_097 > 0.0)}\\t{np.sum(df[df.sex == 'F'].mham_097 > 0.0)}\")\n",
    "    print(f\"{np.sum(df.mham_098 > 0.0)}\\t{np.sum(df[df.sex == 'M'].mham_098 > 0.0)}\\t{np.sum(df[df.sex == 'F'].mham_098 > 0.0)}\")\n",
    "    print(f\"{np.sum(df.mham_099 > 0.0)}\\t{np.sum(df[df.sex == 'M'].mham_099 > 0.0)}\\t{np.sum(df[df.sex == 'F'].mham_099 > 0.0)}\")\n",
    "    print(f\"{np.sum(df.mham_103 > 0.0)}\\t{np.sum(df[df.sex == 'M'].mham_103 > 0.0)}\\t{np.sum(df[df.sex == 'F'].mham_103 > 0.0)}\")\n",
    "    print(\"------------------------------\")"
   ]
  },
  {
   "cell_type": "code",
   "execution_count": 156,
   "metadata": {},
   "outputs": [
    {
     "name": "stdout",
     "output_type": "stream",
     "text": [
      "\n",
      "\n",
      "46\t0\t46\n",
      "46\t0\t46\n",
      "46\t0\t46\n",
      "46\t0\t46\n",
      "------------------------------\n",
      "\n",
      "\n",
      "36\t0\t36\n",
      "36\t0\t36\n",
      "36\t0\t36\n",
      "36\t0\t36\n",
      "------------------------------\n",
      "\n",
      "\n",
      "39\t0\t39\n",
      "39\t0\t39\n",
      "39\t0\t39\n",
      "39\t0\t39\n",
      "------------------------------\n"
     ]
    }
   ],
   "source": [
    "df = df[pd.to_numeric(df['mham_097'], errors='coerce').notnull()]\n",
    "df = df[pd.to_numeric(df['mham_098'], errors='coerce').notnull()]\n",
    "df = df[pd.to_numeric(df['mham_099'], errors='coerce').notnull()]\n",
    "df = df[pd.to_numeric(df['mham_103'], errors='coerce').notnull()]\n",
    "\n",
    "df['mham_097'] = df.mham_097.apply(lambda f: float(f) if f != '.' else 0.0)\n",
    "df['mham_098'] = df.mham_098.apply(lambda f: float(f) if f != '.' else 0.0)\n",
    "df['mham_099'] = df.mham_099.apply(lambda f: float(f) if f != '.' else 0.0)\n",
    "df['mham_103'] = df.mham_103.apply(lambda f: float(f) if f != '.' else 0.0)\n",
    "\n",
    "sdf = df \\\n",
    "    [['participant', 'sex', 'mham_097', 'mham_098', 'mham_099', 'mham_103']] \\\n",
    "    .groupby('participant') \\\n",
    "    .agg({\n",
    "        'sex': 'max',\n",
    "        'mham_097': 'max',\n",
    "        'mham_098': 'max',\n",
    "        'mham_099': 'max',\n",
    "        'mham_103': 'max',\n",
    "    })\n",
    "\n",
    "print_female_stats(sdf)\n",
    "\n",
    "sdf = df \\\n",
    "    [(df.age > 25) & df.session.str.startswith('BAS')] \\\n",
    "    [['participant', 'sex', 'mham_097', 'mham_098', 'mham_099', 'mham_103']] \\\n",
    "    .groupby('participant') \\\n",
    "    .agg({\n",
    "        'sex': 'max',\n",
    "        'mham_097': 'max',\n",
    "        'mham_098': 'max',\n",
    "        'mham_099': 'max',\n",
    "        'mham_103': 'max',\n",
    "    })\n",
    "\n",
    "print_female_stats(sdf)\n",
    "\n",
    "sdf = df \\\n",
    "    [(df.age > 25) & df.session.str.startswith('FLU')] \\\n",
    "    [['participant', 'sex', 'mham_097', 'mham_098', 'mham_099', 'mham_103']] \\\n",
    "    .groupby('participant') \\\n",
    "    .agg({\n",
    "        'sex': 'max',\n",
    "        'mham_097': 'max',\n",
    "        'mham_098': 'max',\n",
    "        'mham_099': 'max',\n",
    "        'mham_103': 'max',\n",
    "    })\n",
    "\n",
    "print_female_stats(sdf)"
   ]
  },
  {
   "cell_type": "code",
   "execution_count": null,
   "metadata": {},
   "outputs": [],
   "source": []
  },
  {
   "cell_type": "code",
   "execution_count": 138,
   "metadata": {},
   "outputs": [
    {
     "data": {
      "text/plain": [
       "692"
      ]
     },
     "execution_count": 138,
     "metadata": {},
     "output_type": "execute_result"
    }
   ],
   "source": [
    "np.sum(df.height > 0)"
   ]
  },
  {
   "cell_type": "code",
   "execution_count": 145,
   "metadata": {},
   "outputs": [
    {
     "data": {
      "text/plain": [
       "313"
      ]
     },
     "execution_count": 145,
     "metadata": {},
     "output_type": "execute_result"
    }
   ],
   "source": [
    "np.sum(df[['participant', 'height']].groupby('participant').mean().height > 0)"
   ]
  },
  {
   "cell_type": "code",
   "execution_count": 155,
   "metadata": {},
   "outputs": [],
   "source": [
    "def count_derivatives(files, start_at=8):\n",
    "    count = {}\n",
    "    for i, o in enumerate(files):\n",
    "        if '/qc/' in o:\n",
    "            continue\n",
    "        o = o.strip('/')\n",
    "        subses, derivative, *iterables, file = o.split('/')[start_at:]\n",
    "        count[derivative] = count.get(derivative, []) + [subses]\n",
    "        \n",
    "        if (i+1) % 10000 == 0:\n",
    "            clear_output(wait=True)\n",
    "            print(f'{i+1} of {len(files)}')\n",
    "    return count"
   ]
  },
  {
   "cell_type": "code",
   "execution_count": 147,
   "metadata": {},
   "outputs": [],
   "source": [
    "objs = get_all_s3_keys(Bucket='fcp-indi', Prefix='data/Projects/RocklandSample/Outputs/C-PAC')"
   ]
  },
  {
   "cell_type": "code",
   "execution_count": 148,
   "metadata": {},
   "outputs": [],
   "source": [
    "pipeline_output = [o for o in objs if '/pipeline_analysis_nuisance/' in o]"
   ]
  },
  {
   "cell_type": "code",
   "execution_count": 156,
   "metadata": {},
   "outputs": [
    {
     "name": "stdout",
     "output_type": "stream",
     "text": [
      "4320000 of 4369074\n"
     ]
    }
   ],
   "source": [
    "derivs = count_derivatives(pipeline_output)"
   ]
  },
  {
   "cell_type": "code",
   "execution_count": 158,
   "metadata": {},
   "outputs": [
    {
     "data": {
      "image/png": "[encoded data removed]",
      "text/plain": [
       "<Figure size 1080x360 with 1 Axes>"
      ]
     },
     "metadata": {
      "needs_background": "light"
     },
     "output_type": "display_data"
    }
   ],
   "source": [
    "import matplotlib.pyplot as plt\n",
    "\n",
    "x = list(sorted(derivs.keys()))\n",
    "y = [len(set(derivs.get(k, []))) for k in sorted(derivs.keys())]\n",
    "\n",
    "plt.figure(figsize=(15,5))\n",
    "plt.bar(x, y)\n",
    "plt.tick_params(axis='x', which='major')\n",
    "plt.xticks(rotation=90)\n",
    "plt.show()"
   ]
  },
  {
   "cell_type": "code",
   "execution_count": 165,
   "metadata": {},
   "outputs": [],
   "source": [
    "with open('derivs.pkl', 'wb') as f:\n",
    "    pickle.dump(derivs, f)"
   ]
  },
  {
   "cell_type": "markdown",
   "metadata": {},
   "source": [
    "# Summary Stats"
   ]
  },
  {
   "cell_type": "markdown",
   "metadata": {},
   "source": [
    "## Demographic/health data"
   ]
  },
  {
   "cell_type": "code",
   "execution_count": 198,
   "metadata": {},
   "outputs": [
    {
     "data": {
      "text/html": [
       "<div>\n",
       "<style scoped>\n",
       "    .dataframe tbody tr th:only-of-type {\n",
       "        vertical-align: middle;\n",
       "    }\n",
       "\n",
       "    .dataframe tbody tr th {\n",
       "        vertical-align: top;\n",
       "    }\n",
       "\n",
       "    .dataframe thead th {\n",
       "        text-align: right;\n",
       "    }\n",
       "</style>\n",
       "<table border=\"1\" class=\"dataframe\">\n",
       "  <thead>\n",
       "    <tr style=\"text-align: right;\">\n",
       "      <th></th>\n",
       "      <th>sex</th>\n",
       "      <th>F</th>\n",
       "      <th>M</th>\n",
       "    </tr>\n",
       "  </thead>\n",
       "  <tbody>\n",
       "    <tr>\n",
       "      <td rowspan=\"3\" valign=\"top\">age</td>\n",
       "      <td>mean</td>\n",
       "      <td>68.673848</td>\n",
       "      <td>68.958462</td>\n",
       "    </tr>\n",
       "    <tr>\n",
       "      <td>median</td>\n",
       "      <td>69.023288</td>\n",
       "      <td>69.202740</td>\n",
       "    </tr>\n",
       "    <tr>\n",
       "      <td>std</td>\n",
       "      <td>2.020741</td>\n",
       "      <td>1.601347</td>\n",
       "    </tr>\n",
       "    <tr>\n",
       "      <td rowspan=\"3\" valign=\"top\">bdi</td>\n",
       "      <td>mean</td>\n",
       "      <td>4.886364</td>\n",
       "      <td>4.193548</td>\n",
       "    </tr>\n",
       "    <tr>\n",
       "      <td>median</td>\n",
       "      <td>3.000000</td>\n",
       "      <td>2.000000</td>\n",
       "    </tr>\n",
       "    <tr>\n",
       "      <td>std</td>\n",
       "      <td>5.507778</td>\n",
       "      <td>5.192426</td>\n",
       "    </tr>\n",
       "    <tr>\n",
       "      <td rowspan=\"3\" valign=\"top\">gds</td>\n",
       "      <td>mean</td>\n",
       "      <td>4.295455</td>\n",
       "      <td>3.548387</td>\n",
       "    </tr>\n",
       "    <tr>\n",
       "      <td>median</td>\n",
       "      <td>3.000000</td>\n",
       "      <td>3.000000</td>\n",
       "    </tr>\n",
       "    <tr>\n",
       "      <td>std</td>\n",
       "      <td>5.232188</td>\n",
       "      <td>3.731297</td>\n",
       "    </tr>\n",
       "    <tr>\n",
       "      <td rowspan=\"3\" valign=\"top\">bp_sys</td>\n",
       "      <td>mean</td>\n",
       "      <td>135.090909</td>\n",
       "      <td>139.806452</td>\n",
       "    </tr>\n",
       "    <tr>\n",
       "      <td>median</td>\n",
       "      <td>131.500000</td>\n",
       "      <td>136.000000</td>\n",
       "    </tr>\n",
       "    <tr>\n",
       "      <td>std</td>\n",
       "      <td>23.241721</td>\n",
       "      <td>20.582224</td>\n",
       "    </tr>\n",
       "    <tr>\n",
       "      <td rowspan=\"3\" valign=\"top\">bp_dys</td>\n",
       "      <td>mean</td>\n",
       "      <td>76.636364</td>\n",
       "      <td>80.387097</td>\n",
       "    </tr>\n",
       "    <tr>\n",
       "      <td>median</td>\n",
       "      <td>75.500000</td>\n",
       "      <td>80.000000</td>\n",
       "    </tr>\n",
       "    <tr>\n",
       "      <td>std</td>\n",
       "      <td>12.327113</td>\n",
       "      <td>11.152511</td>\n",
       "    </tr>\n",
       "  </tbody>\n",
       "</table>\n",
       "</div>"
      ],
      "text/plain": [
       "sex                     F           M\n",
       "age    mean     68.673848   68.958462\n",
       "       median   69.023288   69.202740\n",
       "       std       2.020741    1.601347\n",
       "bdi    mean      4.886364    4.193548\n",
       "       median    3.000000    2.000000\n",
       "       std       5.507778    5.192426\n",
       "gds    mean      4.295455    3.548387\n",
       "       median    3.000000    3.000000\n",
       "       std       5.232188    3.731297\n",
       "bp_sys mean    135.090909  139.806452\n",
       "       median  131.500000  136.000000\n",
       "       std      23.241721   20.582224\n",
       "bp_dys mean     76.636364   80.387097\n",
       "       median   75.500000   80.000000\n",
       "       std      12.327113   11.152511"
      ]
     },
     "execution_count": 198,
     "metadata": {},
     "output_type": "execute_result"
    }
   ],
   "source": [
    "df[(df.age > 25) & df.session.str.startswith('BAS')] \\\n",
    "    .groupby('sex') \\\n",
    "    .agg({\n",
    "        'age': ['mean', 'median', 'std'],\n",
    "        'bdi': ['mean', 'median','std'],\n",
    "        'gds': ['mean', 'median','std'],\n",
    "        'bp_sys': ['mean', 'median','std'],\n",
    "        'bp_dys': ['mean', 'median','std'],\n",
    "    }) \\\n",
    "    .transpose()"
   ]
  },
  {
   "cell_type": "code",
   "execution_count": 202,
   "metadata": {},
   "outputs": [],
   "source": [
    "sdf = df[(df.age > 25) & df.session.str.startswith('BAS')] \\\n",
    "    [['participant', 'sex', 'age', 'bdi', 'gds', 'bp_sys','bp_dys']] \\\n",
    "\n",
    "sdf_long = pd.melt(sdf, id_vars=['participant', 'sex'], value_vars=['age', 'bdi', 'gds', 'bp_sys','bp_dys'])"
   ]
  },
  {
   "cell_type": "code",
   "execution_count": 212,
   "metadata": {},
   "outputs": [
    {
     "data": {
      "image/png": "[encoded data removed]",
      "text/plain": [
       "<Figure size 1152x288 with 5 Axes>"
      ]
     },
     "metadata": {
      "needs_background": "light"
     },
     "output_type": "display_data"
    }
   ],
   "source": [
    "g = sns.catplot(x=\"sex\", y=\"value\",\n",
    "                hue=\"sex\", col=\"variable\",\n",
    "                data=sdf_long, kind=\"box\",\n",
    "                height=4, aspect=.8, sharey=False, legend = True)"
   ]
  },
  {
   "cell_type": "markdown",
   "metadata": {},
   "source": [
    "## volumetric data"
   ]
  },
  {
   "cell_type": "code",
   "execution_count": 215,
   "metadata": {},
   "outputs": [],
   "source": [
    "files = []\n",
    "files = glob.glob('volume_per_freesurfer_label/sub*/tables/*csv')"
   ]
  },
  {
   "cell_type": "code",
   "execution_count": 219,
   "metadata": {},
   "outputs": [],
   "source": [
    "li = []\n",
    "for file in files:\n",
    "    sub=file.split('/')[1].split('_')[0].split('-')[1]\n",
    "    ses=file.split('/')[1].split('_')[1].split('-')[1]\n",
    "    \n",
    "    f = pd.read_csv(file)\n",
    "    f['participant']=sub\n",
    "    f['session']=ses\n",
    "    roiList=[ 'ctx-lh-entorhinal', 'Left-Hippocampus', 'Left-Amygdala', 'ctx-rh-entorhinal', 'Right-Hippocampus', 'Right-Amygdala' ]\n",
    "\n",
    "    li.append(f[f['name'].isin(roiList)])\n",
    "    \n",
    "frame = pd.concat(li, axis=0)\n",
    "frame.columns = frame.columns.str.lstrip()"
   ]
  },
  {
   "cell_type": "code",
   "execution_count": 224,
   "metadata": {},
   "outputs": [],
   "source": [
    "frame = frame.merge(df[['participant', 'sex', 'age']], on='participant')\n"
   ]
  },
  {
   "cell_type": "code",
   "execution_count": 234,
   "metadata": {},
   "outputs": [],
   "source": [
    "frame.rename(columns={'name':'roi'}, inplace=True)"
   ]
  },
  {
   "cell_type": "code",
   "execution_count": 235,
   "metadata": {},
   "outputs": [
    {
     "data": {
      "text/html": [
       "<div>\n",
       "<style scoped>\n",
       "    .dataframe tbody tr th:only-of-type {\n",
       "        vertical-align: middle;\n",
       "    }\n",
       "\n",
       "    .dataframe tbody tr th {\n",
       "        vertical-align: top;\n",
       "    }\n",
       "\n",
       "    .dataframe thead tr th {\n",
       "        text-align: left;\n",
       "    }\n",
       "\n",
       "    .dataframe thead tr:last-of-type th {\n",
       "        text-align: right;\n",
       "    }\n",
       "</style>\n",
       "<table border=\"1\" class=\"dataframe\">\n",
       "  <thead>\n",
       "    <tr>\n",
       "      <th></th>\n",
       "      <th></th>\n",
       "      <th colspan=\"3\" halign=\"left\">volume</th>\n",
       "    </tr>\n",
       "    <tr>\n",
       "      <th></th>\n",
       "      <th></th>\n",
       "      <th>mean</th>\n",
       "      <th>median</th>\n",
       "      <th>std</th>\n",
       "    </tr>\n",
       "    <tr>\n",
       "      <th>sex</th>\n",
       "      <th>roi</th>\n",
       "      <th></th>\n",
       "      <th></th>\n",
       "      <th></th>\n",
       "    </tr>\n",
       "  </thead>\n",
       "  <tbody>\n",
       "    <tr>\n",
       "      <td rowspan=\"6\" valign=\"top\">F</td>\n",
       "      <td>Left-Amygdala</td>\n",
       "      <td>1292.869492</td>\n",
       "      <td>1340.866</td>\n",
       "      <td>200.476519</td>\n",
       "    </tr>\n",
       "    <tr>\n",
       "      <td>Left-Hippocampus</td>\n",
       "      <td>3786.711885</td>\n",
       "      <td>3705.968</td>\n",
       "      <td>298.108895</td>\n",
       "    </tr>\n",
       "    <tr>\n",
       "      <td>Right-Amygdala</td>\n",
       "      <td>1475.287082</td>\n",
       "      <td>1500.130</td>\n",
       "      <td>135.598957</td>\n",
       "    </tr>\n",
       "    <tr>\n",
       "      <td>Right-Hippocampus</td>\n",
       "      <td>3975.476820</td>\n",
       "      <td>3981.590</td>\n",
       "      <td>249.099936</td>\n",
       "    </tr>\n",
       "    <tr>\n",
       "      <td>ctx-lh-entorhinal</td>\n",
       "      <td>2156.194623</td>\n",
       "      <td>2156.258</td>\n",
       "      <td>502.988468</td>\n",
       "    </tr>\n",
       "    <tr>\n",
       "      <td>ctx-rh-entorhinal</td>\n",
       "      <td>2092.564246</td>\n",
       "      <td>2042.770</td>\n",
       "      <td>462.408211</td>\n",
       "    </tr>\n",
       "    <tr>\n",
       "      <td rowspan=\"6\" valign=\"top\">M</td>\n",
       "      <td>Left-Amygdala</td>\n",
       "      <td>1507.337721</td>\n",
       "      <td>1512.527</td>\n",
       "      <td>134.385410</td>\n",
       "    </tr>\n",
       "    <tr>\n",
       "      <td>Left-Hippocampus</td>\n",
       "      <td>4150.922977</td>\n",
       "      <td>4263.878</td>\n",
       "      <td>463.791705</td>\n",
       "    </tr>\n",
       "    <tr>\n",
       "      <td>Right-Amygdala</td>\n",
       "      <td>1747.863209</td>\n",
       "      <td>1715.660</td>\n",
       "      <td>127.722114</td>\n",
       "    </tr>\n",
       "    <tr>\n",
       "      <td>Right-Hippocampus</td>\n",
       "      <td>4307.857767</td>\n",
       "      <td>4354.477</td>\n",
       "      <td>455.298395</td>\n",
       "    </tr>\n",
       "    <tr>\n",
       "      <td>ctx-lh-entorhinal</td>\n",
       "      <td>2719.812628</td>\n",
       "      <td>2562.523</td>\n",
       "      <td>631.285008</td>\n",
       "    </tr>\n",
       "    <tr>\n",
       "      <td>ctx-rh-entorhinal</td>\n",
       "      <td>2607.988744</td>\n",
       "      <td>2650.261</td>\n",
       "      <td>460.079163</td>\n",
       "    </tr>\n",
       "  </tbody>\n",
       "</table>\n",
       "</div>"
      ],
      "text/plain": [
       "                            volume                      \n",
       "                              mean    median         std\n",
       "sex roi                                                 \n",
       "F   Left-Amygdala      1292.869492  1340.866  200.476519\n",
       "    Left-Hippocampus   3786.711885  3705.968  298.108895\n",
       "    Right-Amygdala     1475.287082  1500.130  135.598957\n",
       "    Right-Hippocampus  3975.476820  3981.590  249.099936\n",
       "    ctx-lh-entorhinal  2156.194623  2156.258  502.988468\n",
       "    ctx-rh-entorhinal  2092.564246  2042.770  462.408211\n",
       "M   Left-Amygdala      1507.337721  1512.527  134.385410\n",
       "    Left-Hippocampus   4150.922977  4263.878  463.791705\n",
       "    Right-Amygdala     1747.863209  1715.660  127.722114\n",
       "    Right-Hippocampus  4307.857767  4354.477  455.298395\n",
       "    ctx-lh-entorhinal  2719.812628  2562.523  631.285008\n",
       "    ctx-rh-entorhinal  2607.988744  2650.261  460.079163"
      ]
     },
     "execution_count": 235,
     "metadata": {},
     "output_type": "execute_result"
    }
   ],
   "source": [
    "# print(frame.groupby('name').agg(['mean', 'median', 'std']))\n",
    "\n",
    "frame[(frame.age > 25)] \\\n",
    "    .groupby(['sex', 'roi']) \\\n",
    "    .agg({\n",
    "        'volume': ['mean', 'median', 'std'],\n",
    "    })\n",
    "\n",
    "\n"
   ]
  },
  {
   "cell_type": "code",
   "execution_count": 236,
   "metadata": {},
   "outputs": [
    {
     "data": {
      "image/png": "[encoded data removed]",
      "text/plain": [
       "<Figure size 1382.4x288 with 6 Axes>"
      ]
     },
     "metadata": {
      "needs_background": "light"
     },
     "output_type": "display_data"
    }
   ],
   "source": [
    "g = sns.catplot(x=\"sex\", y=\"volume\",\n",
    "                hue=\"sex\", col=\"roi\",\n",
    "                data=frame, kind=\"box\",\n",
    "                height=4, aspect=.8, sharey=False, legend = True)"
   ]
  }
 ],
 "metadata": {
  "kernelspec": {
   "display_name": "Python 3",
   "language": "python",
   "name": "python3"
  },
  "language_info": {
   "codemirror_mode": {
    "name": "ipython",
    "version": 3
   },
   "file_extension": ".py",
   "mimetype": "text/x-python",
   "name": "python",
   "nbconvert_exporter": "python",
   "pygments_lexer": "ipython3",
   "version": "3.7.1"
  }
 },
 "nbformat": 4,
 "nbformat_minor": 4
}
